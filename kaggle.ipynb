{
  "nbformat": 4,
  "nbformat_minor": 0,
  "metadata": {
    "colab": {
      "name": "kaggle.ipynb",
      "private_outputs": true,
      "provenance": [],
      "collapsed_sections": [],
      "authorship_tag": "ABX9TyPt6u42Glgu4q34+NIfctR6",
      "include_colab_link": true
    },
    "kernelspec": {
      "name": "python3",
      "display_name": "Python 3"
    },
    "accelerator": "GPU"
  },
  "cells": [
    {
      "cell_type": "markdown",
      "metadata": {
        "id": "view-in-github",
        "colab_type": "text"
      },
      "source": [
        "<a href=\"https://colab.research.google.com/github/VladimirVulpe/crs/blob/main/kaggle.ipynb\" target=\"_parent\"><img src=\"https://colab.research.google.com/assets/colab-badge.svg\" alt=\"Open In Colab\"/></a>"
      ]
    },
    {
      "cell_type": "code",
      "metadata": {
        "id": "hE1y4Oym9iI6"
      },
      "source": [
        "!pip install PyDrive\n",
        "\n",
        "from pydrive.auth import GoogleAuth\n",
        "from pydrive.drive import GoogleDrive\n",
        "from google.colab import auth\n",
        "from oauth2client.client import GoogleCredentials\n",
        "\n",
        "auth.authenticate_user()\n",
        "gauth = GoogleAuth()\n",
        "gauth.credentials = GoogleCredentials.get_application_default()\n",
        "drive = GoogleDrive(gauth)\n",
        "\n",
        "downloaded = drive.CreateFile({'id':\"1R5FNtJ0gyYTLDrt0TQnmlSnrRWcrfDTn\"})   # replace the id with id of file you want to access\n",
        "downloaded.GetContentFile('Rhinosinusitis culture results - Sheet1.csv')        # replace the file name with your file"
      ],
      "execution_count": null,
      "outputs": []
    },
    {
      "cell_type": "code",
      "metadata": {
        "id": "WAiJcDsx8qJ5"
      },
      "source": [
        "import pandas as pd\n",
        "pd.set_option('max_rows', 20)\n",
        "\n",
        "sinus = pd.read_csv(\"Rhinosinusitis culture results - Sheet1.csv\", index_col=0)\n",
        "\n",
        "cols = ['patient (code)']\n",
        "df = sinus.loc[:, cols]\n",
        "\n",
        "patientsDropNa = sinus['patient (code)'].dropna()\n",
        "patients = patientsDropNa.unique()\n",
        "for patient in patients:\n",
        "  patientsGroupedByNames = sinus.loc[sinus['patient (code)'] == patient]\n",
        "  print(\"\\n\\n:\", patientsGroupedByNames)\n",
        "\n",
        "print(\"\\n\\n:\", df.describe())\n",
        "print(\"\\n\\npatients:\", patients)\n",
        "print(\"\\n\\n:\", df.value_counts())"
      ],
      "execution_count": null,
      "outputs": []
    }
  ]
}