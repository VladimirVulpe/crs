{
  "nbformat": 4,
  "nbformat_minor": 0,
  "metadata": {
    "colab": {
      "name": "kaggle.ipynb",
      "private_outputs": true,
      "provenance": [],
      "collapsed_sections": [],
      "authorship_tag": "ABX9TyMFh6KoQO9JNN45fjh7ptAo",
      "include_colab_link": true
    },
    "kernelspec": {
      "name": "python3",
      "display_name": "Python 3"
    },
    "accelerator": "GPU"
  },
  "cells": [
    {
      "cell_type": "markdown",
      "metadata": {
        "id": "view-in-github",
        "colab_type": "text"
      },
      "source": [
        "<a href=\"https://colab.research.google.com/github/VladimirVulpe/crs/blob/main/kaggle.ipynb\" target=\"_parent\"><img src=\"https://colab.research.google.com/assets/colab-badge.svg\" alt=\"Open In Colab\"/></a>"
      ]
    },
    {
      "cell_type": "markdown",
      "metadata": {
        "id": "M7q5kQ6JlORj"
      },
      "source": [
        "# Get the Rhinosinusitis datasets from Google Drive"
      ]
    },
    {
      "cell_type": "code",
      "metadata": {
        "id": "hE1y4Oym9iI6"
      },
      "source": [
        "!pip install PyDrive\n",
        "\n",
        "from pydrive.auth import GoogleAuth\n",
        "from pydrive.drive import GoogleDrive\n",
        "from google.colab import auth\n",
        "from oauth2client.client import GoogleCredentials\n",
        "\n",
        "import pandas as pd\n",
        "pd.set_option('max_rows', 200)\n",
        "\n",
        "auth.authenticate_user()\n",
        "gauth = GoogleAuth()\n",
        "gauth.credentials = GoogleCredentials.get_application_default()\n",
        "drive = GoogleDrive(gauth)\n",
        "\n",
        "dataset_title = 'Rhinosinusitis culture results - Sheet1.csv'\n",
        "\n",
        "downloaded = drive.CreateFile({'id':\"1R5FNtJ0gyYTLDrt0TQnmlSnrRWcrfDTn\"})   # replace the id with id of file you want to access\n",
        "downloaded.GetContentFile(dataset_title)    # replace the file name with your file"
      ],
      "execution_count": null,
      "outputs": []
    },
    {
      "cell_type": "markdown",
      "metadata": {
        "id": "d0whwdABlgQe"
      },
      "source": [
        "\n",
        "# Get the microbes sorted by patients\n",
        "\n"
      ]
    },
    {
      "cell_type": "code",
      "metadata": {
        "id": "WAiJcDsx8qJ5"
      },
      "source": [
        "sinus = pd.read_csv(dataset_title, index_col=0)\n",
        "\n",
        "patient_code = 'patient (code)'\n",
        "\n",
        "patients = sinus[patient_code].dropna().unique()\n",
        "\n",
        "patient_cols = [patient_code, 'microbe']\n",
        "microbesSortedByPatients = sinus[patient_cols].dropna()\n",
        "\n",
        "print(\"\\n\\npatients: \", patients)\n",
        "microbesSortedByPatients"
      ],
      "execution_count": null,
      "outputs": []
    },
    {
      "cell_type": "markdown",
      "metadata": {
        "id": "yA3Dh58T05KM"
      },
      "source": [
        "# Get microbes details"
      ]
    },
    {
      "cell_type": "code",
      "metadata": {
        "id": "0yZ6U6Kx1FwG"
      },
      "source": [
        "microbes = sinus['microbe'].dropna().unique()\n",
        "microbes"
      ],
      "execution_count": null,
      "outputs": []
    }
  ]
}