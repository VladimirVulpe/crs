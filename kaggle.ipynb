{
  "nbformat": 4,
  "nbformat_minor": 0,
  "metadata": {
    "colab": {
      "name": "kaggle.ipynb",
      "private_outputs": true,
      "provenance": [],
      "collapsed_sections": [],
      "authorship_tag": "ABX9TyOQOWsyGBNYRaZbMXB3C1Z+",
      "include_colab_link": true
    },
    "kernelspec": {
      "name": "python3",
      "display_name": "Python 3"
    },
    "accelerator": "GPU"
  },
  "cells": [
    {
      "cell_type": "markdown",
      "metadata": {
        "id": "view-in-github",
        "colab_type": "text"
      },
      "source": [
        "<a href=\"https://colab.research.google.com/github/VladimirVulpe/crs/blob/main/kaggle.ipynb\" target=\"_parent\"><img src=\"https://colab.research.google.com/assets/colab-badge.svg\" alt=\"Open In Colab\"/></a>"
      ]
    },
    {
      "cell_type": "markdown",
      "metadata": {
        "id": "M7q5kQ6JlORj"
      },
      "source": [
        "# Get the Rhinosinusitis datasets from Google Drive"
      ]
    },
    {
      "cell_type": "code",
      "metadata": {
        "id": "hE1y4Oym9iI6"
      },
      "source": [
        "!pip install PyDrive\n",
        "\n",
        "from pydrive.auth import GoogleAuth\n",
        "from pydrive.drive import GoogleDrive\n",
        "from google.colab import auth\n",
        "from oauth2client.client import GoogleCredentials\n",
        "\n",
        "import pandas as pd\n",
        "#pd.set_option('max_rows', 20)\n",
        "\n",
        "auth.authenticate_user()\n",
        "gauth = GoogleAuth()\n",
        "gauth.credentials = GoogleCredentials.get_application_default()\n",
        "drive = GoogleDrive(gauth)\n",
        "\n",
        "dataset_title = 'Rhinosinusitis culture results - Sheet1.csv'\n",
        "\n",
        "downloaded = drive.CreateFile({'id':\"1R5FNtJ0gyYTLDrt0TQnmlSnrRWcrfDTn\"})   # replace the id with id of file you want to access\n",
        "downloaded.GetContentFile(dataset_title)    # replace the file name with your file"
      ],
      "execution_count": null,
      "outputs": []
    },
    {
      "cell_type": "markdown",
      "metadata": {
        "id": "d0whwdABlgQe"
      },
      "source": [
        ""
      ]
    },
    {
      "cell_type": "code",
      "metadata": {
        "id": "WAiJcDsx8qJ5"
      },
      "source": [
        "sinus = pd.read_csv(dataset_title, index_col=0)\n",
        "\n",
        "patient_code = 'patient (code)'\n",
        "\n",
        "patientsDropNa = sinus[patient_code].dropna()\n",
        "patients = patientsDropNa.unique()\n",
        "patientsGroupedByNames = sinus.groupby('microbe').apply(lambda patient: patient.iloc[0])\n",
        "\n",
        "print(\"\\n\\npatientsGroupedByNames: \")\n",
        "#for patient in patients:\n",
        "#  patientsGroupedByNames.append(sinus.loc[sinus[patient_code] == patient, patient_cols])\n",
        "\n",
        "microbesDropNa = patientsGroupedByNames['microbe'].dropna()\n",
        "microbes = microbesDropNa.unique()\n",
        "\n",
        "print(\"\\n\\npatients: \", patients)\n",
        "print(\"\\n\\n: \", patientsGroupedByNames)\n",
        "#print(\"\\n\\nmicrobes: \", microbes)"
      ],
      "execution_count": null,
      "outputs": []
    }
  ]
}