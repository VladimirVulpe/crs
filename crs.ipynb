{
  "nbformat": 4,
  "nbformat_minor": 0,
  "metadata": {
    "colab": {
      "name": "crs.ipynb",
      "private_outputs": true,
      "provenance": [],
      "collapsed_sections": [],
      "authorship_tag": "ABX9TyPeujeaRt2Gyb+2PDSC9ERW",
      "include_colab_link": true
    },
    "kernelspec": {
      "name": "python3",
      "display_name": "Python 3"
    },
    "accelerator": "GPU"
  },
  "cells": [
    {
      "cell_type": "markdown",
      "metadata": {
        "id": "view-in-github",
        "colab_type": "text"
      },
      "source": [
        "<a href=\"https://colab.research.google.com/github/VladimirVulpe/crs/blob/main/crs.ipynb\" target=\"_parent\"><img src=\"https://colab.research.google.com/assets/colab-badge.svg\" alt=\"Open In Colab\"/></a>"
      ]
    },
    {
      "cell_type": "markdown",
      "metadata": {
        "id": "M7q5kQ6JlORj"
      },
      "source": [
        "# Get the Rhinosinusitis datasets from Google Drive"
      ]
    },
    {
      "cell_type": "code",
      "metadata": {
        "id": "hE1y4Oym9iI6"
      },
      "source": [
        "!pip install PyDrive\n",
        "\n",
        "from pydrive.auth import GoogleAuth\n",
        "from pydrive.drive import GoogleDrive\n",
        "from google.colab import auth\n",
        "from oauth2client.client import GoogleCredentials\n",
        "\n",
        "import pandas as pd\n",
        "pd.set_option('max_rows', 200)\n",
        "\n",
        "auth.authenticate_user()\n",
        "gauth = GoogleAuth()\n",
        "gauth.credentials = GoogleCredentials.get_application_default()\n",
        "drive = GoogleDrive(gauth)\n",
        "\n",
        "dataset_title = 'Rhinosinusitis culture results - Sheet1.csv'\n",
        "\n",
        "downloaded = drive.CreateFile({'id':\"1R5FNtJ0gyYTLDrt0TQnmlSnrRWcrfDTn\"})   # replace the id with id of file you want to access\n",
        "downloaded.GetContentFile(dataset_title)    # replace the file name with your file"
      ],
      "execution_count": null,
      "outputs": []
    },
    {
      "cell_type": "markdown",
      "metadata": {
        "id": "d0whwdABlgQe"
      },
      "source": [
        "\n",
        "# Get the microbes sorted by patients\n",
        "\n"
      ]
    },
    {
      "cell_type": "code",
      "metadata": {
        "id": "WAiJcDsx8qJ5"
      },
      "source": [
        "sinus = pd.read_csv(dataset_title, index_col=0)\n",
        "\n",
        "patient_code = 'patient (code)'\n",
        "\n",
        "patients = sinus[patient_code].dropna().unique()\n",
        "\n",
        "patient_cols = [patient_code, 'microbe']\n",
        "#microbes_grouped_by_patients = sinus[patient_cols].dropna()\n",
        "microbes_grouped_by_patients = sinus.groupby(patient_code)['microbe'].apply(list).reset_index(name='microbe')\n",
        "\n",
        "microbes_grouped_by_patients['disease'] = pd.Series('CRSwP', index=microbes_grouped_by_patients.index)\n",
        "\n",
        "print(\"\\n\\nPATIENTS: \\n\", patients)\n",
        "microbes_grouped_by_patients"
      ],
      "execution_count": null,
      "outputs": []
    },
    {
      "cell_type": "markdown",
      "metadata": {
        "id": "yA3Dh58T05KM"
      },
      "source": [
        "# Get microbes details"
      ]
    },
    {
      "cell_type": "code",
      "metadata": {
        "id": "0yZ6U6Kx1FwG"
      },
      "source": [
        "microbes = sinus['microbe'].dropna()\n",
        "print(\"\\n\\nMICROBES: \\n\", microbes)\n",
        "\n",
        "microbes_sorted_by_general_occurence = microbes.value_counts(dropna=True)\n",
        "print(\"\\n\\nMICROBES_SORTED_BY_GENERAL_OCCURENCE: \\n\", microbes_sorted_by_general_occurence)"
      ],
      "execution_count": null,
      "outputs": []
    },
    {
      "cell_type": "markdown",
      "metadata": {
        "id": "GwMx62nwtEoT"
      },
      "source": [
        "# Training with microbes and patients"
      ]
    },
    {
      "cell_type": "code",
      "metadata": {
        "id": "sAivQveUimgd"
      },
      "source": [
        "from xgboost import XGBRegressor\n",
        "from sklearn.model_selection import train_test_split\n",
        "from sklearn.preprocessing import OneHotEncoder\n",
        "\n",
        "\n",
        "# Select data corresponding to features in feature_names\n",
        "feature_names = ['patient (code)', 'microbe']\n",
        "X = microbes_grouped_by_patients[feature_names]\n",
        "y = microbes_grouped_by_patients['disease']\n",
        "print(microbes_grouped_by_patients)\n",
        "\n",
        "# Break off validation set from training data\n",
        "X_train_full, X_valid_full, y_train, y_valid = train_test_split(X, y, train_size=0.8, test_size=0.2,\n",
        "                                                                random_state=0)\n",
        "\n",
        "#For model reproducibility, set a numeric value for random_state when specifying the model\n",
        "sinus_model = XGBRegressor(n_estimators=1000, learning_rate=0.05)\n",
        "\n",
        "# TODO use imputation\n",
        "\n",
        "# TODO: use encoder\n",
        "#enc = OneHotEncoder(handle_unknown='ignore')\n",
        "#enc.fit(X)\n",
        "\n",
        "# Fit the model\n",
        "sinus_model.fit(X_train_full, y_train)\n",
        "\n",
        "predictions = sinus_model.predict(X_train_full)\n",
        "print(\"\\n\\nPREDICTIONS: \\n\", predictions)\n",
        "\n",
        "# Calculate MAE\n",
        "mae = mean_absolute_error(predictions, y_valid)"
      ],
      "execution_count": null,
      "outputs": []
    }
  ]
}